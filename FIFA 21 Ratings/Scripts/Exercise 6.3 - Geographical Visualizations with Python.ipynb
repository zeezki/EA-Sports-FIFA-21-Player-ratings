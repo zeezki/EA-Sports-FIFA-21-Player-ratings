{
 "cells": [
  {
   "cell_type": "markdown",
   "id": "c388bcc7",
   "metadata": {},
   "source": [
    "# 6.3 Geographic Visualization\n",
    "### This script contains the following:\n",
    "#### 1. Import data and libraries\n",
    "#### 2. Data wrangling\n",
    "#### 3. Data cleaning\n",
    "#### 4. Plotting a choropleth\n",
    "#### 5. Discuss the results and what they mean in a markdown section."
   ]
  },
  {
   "cell_type": "markdown",
   "id": "b0ecfc05",
   "metadata": {},
   "source": [
    "#### 1. Import data and libraries"
   ]
  },
  {
   "cell_type": "code",
   "execution_count": null,
   "id": "42197038",
   "metadata": {},
   "outputs": [],
   "source": [
    "import pandas as pd\n",
    "import numpy as np\n",
    "import seaborn as sns\n",
    "import matplotlib\n",
    "import os\n",
    "import folium\n",
    "import json"
   ]
  },
  {
   "cell_type": "code",
   "execution_count": null,
   "id": "989c8a64",
   "metadata": {},
   "outputs": [],
   "source": [
    "# This command propts matplotlib visuals to appear in the notebook \n",
    "\n",
    "%matplotlib inline"
   ]
  },
  {
   "cell_type": "code",
   "execution_count": null,
   "id": "1f81d849",
   "metadata": {},
   "outputs": [],
   "source": [
    "# Import \".geojson\" file for the Countries\n",
    "Countries_geo = r\"C:\\Users\\acisk\\Dropbox\\My PC (DESKTOP-SO8P63N)\\Desktop\\Data Analytics\\Achievement 6 Project- Advanced Analytics & Dashboard Design/countries.geojson\""
   ]
  },
  {
   "cell_type": "code",
   "execution_count": null,
   "id": "f393f718",
   "metadata": {},
   "outputs": [],
   "source": [
    "path=r\"C:\\Users\\acisk\\Dropbox\\My PC (DESKTOP-SO8P63N)\\Desktop\\Data Analytics\\Achievement 6 Project- Advanced Analytics & Dashboard Design\""
   ]
  },
  {
   "cell_type": "code",
   "execution_count": null,
   "id": "dcf7fd2b",
   "metadata": {},
   "outputs": [],
   "source": [
    "# That's just in case you want to look at the GEOJSON file contents here too:\n",
    "f = open(r\"C:\\Users\\acisk\\Dropbox\\My PC (DESKTOP-SO8P63N)\\Desktop\\Data Analytics\\Achievement 6 Project- Advanced Analytics & Dashboard Design/countries.geojson\",)\n",
    " \n",
    "# returns GEOJSON object asa dictionary\n",
    "data = json.load(f)\n",
    "  \n",
    "# Iterating through the geojson list\n",
    "for i in data['features']:\n",
    "    print(i)"
   ]
  },
  {
   "cell_type": "code",
   "execution_count": null,
   "id": "b4e92e81",
   "metadata": {},
   "outputs": [],
   "source": [
    "#Importing players ratings data\n",
    "fifa_21 = pd.read_csv(os.path.join(path, 'FIFA 21 Ratings Project','Data', 'Prepared Data', 'FIFA21_ratings.csv'), index_col = False)"
   ]
  },
  {
   "cell_type": "code",
   "execution_count": null,
   "id": "488e1f78",
   "metadata": {},
   "outputs": [],
   "source": [
    "fifa_21.head()"
   ]
  },
  {
   "cell_type": "code",
   "execution_count": null,
   "id": "08e45c7f",
   "metadata": {},
   "outputs": [],
   "source": [
    "fifa_21.columns"
   ]
  },
  {
   "cell_type": "markdown",
   "id": "1e4b8259",
   "metadata": {},
   "source": [
    "#### 2. Data Wrangling"
   ]
  },
  {
   "cell_type": "code",
   "execution_count": null,
   "id": "8eae9a97",
   "metadata": {},
   "outputs": [],
   "source": [
    "# Dropping the unneeded columns\n",
    "fifa_21_new = fifa_21[['sofifa_id', 'age', 'height_cm', 'weight_kg',\n",
    "                       'nationality', 'player_rating', 'value_eur', 'wage_eur']]"
   ]
  },
  {
   "cell_type": "code",
   "execution_count": null,
   "id": "9a5dde6e",
   "metadata": {},
   "outputs": [],
   "source": [
    "fifa_21_new.head()"
   ]
  },
  {
   "cell_type": "code",
   "execution_count": null,
   "id": "f67c0cc4",
   "metadata": {},
   "outputs": [],
   "source": [
    "fifa_21_new.dtypes"
   ]
  },
  {
   "cell_type": "code",
   "execution_count": null,
   "id": "01973c3c",
   "metadata": {},
   "outputs": [],
   "source": [
    "fifa_21_new['nationality'].value_counts()"
   ]
  },
  {
   "cell_type": "markdown",
   "id": "b8ebe374",
   "metadata": {},
   "source": [
    "#### 3. Data cleaning"
   ]
  },
  {
   "cell_type": "code",
   "execution_count": null,
   "id": "5e605683",
   "metadata": {},
   "outputs": [],
   "source": [
    "# Check for missing values\n",
    "\n",
    "fifa_21_new.isnull().sum()"
   ]
  },
  {
   "cell_type": "code",
   "execution_count": null,
   "id": "7e5ae421",
   "metadata": {},
   "outputs": [],
   "source": [
    "# Duplicate check\n",
    "dups = fifa_21_new.duplicated()"
   ]
  },
  {
   "cell_type": "code",
   "execution_count": null,
   "id": "8f7f03bc",
   "metadata": {},
   "outputs": [],
   "source": [
    "dups.head()"
   ]
  },
  {
   "cell_type": "markdown",
   "id": "61f5af40",
   "metadata": {},
   "source": [
    "#### Extreme values check"
   ]
  },
  {
   "cell_type": "code",
   "execution_count": null,
   "id": "4d5548b9",
   "metadata": {},
   "outputs": [],
   "source": [
    "sns.histplot(fifa_21_new['player_rating'], bins=20, kde = True) # shows extreme values for 'player ratings'"
   ]
  },
  {
   "cell_type": "markdown",
   "id": "27b95acb",
   "metadata": {},
   "source": [
    "#### 4. Plotting a choropleth"
   ]
  },
  {
   "cell_type": "markdown",
   "id": "3e9ce1d8",
   "metadata": {},
   "source": [
    "#### I created a new column for the count of players in each countries"
   ]
  },
  {
   "cell_type": "code",
   "execution_count": null,
   "id": "43035e77",
   "metadata": {},
   "outputs": [],
   "source": [
    "# Creating a new column for the counts of players of each countries\n",
    "fifa_21_new['Player_counts'] = fifa_21_new.groupby(['nationality'])['nationality'].transform('count')"
   ]
  },
  {
   "cell_type": "code",
   "execution_count": null,
   "id": "68e11307",
   "metadata": {},
   "outputs": [],
   "source": [
    "fifa_21_new.head()"
   ]
  },
  {
   "cell_type": "code",
   "execution_count": null,
   "id": "b256e373",
   "metadata": {},
   "outputs": [],
   "source": [
    "# Create a data frame with just the nationality and the counts of players\n",
    "\n",
    "data_to_plot = fifa_21_new[['nationality','Player_counts']]\n",
    "data_to_plot.head()"
   ]
  },
  {
   "cell_type": "code",
   "execution_count": null,
   "id": "7015d8d8",
   "metadata": {},
   "outputs": [],
   "source": [
    "# Setup a folium map at a high-level zoom\n",
    "map = folium.Map(location = [100, 0], zoom_start = 1.5)\n",
    "\n",
    "# Choropleth maps bind Pandas Data Frames and json geometries.This allows us to quickly visualize data combinations\n",
    "folium.Choropleth(\n",
    "    geo_data = Countries_geo, \n",
    "    data = data_to_plot,\n",
    "    columns = ['nationality', 'Player_counts'],\n",
    "    key_on = 'feature.properties.ADMIN', # this part is very important - check your json file to see where the KEY is located\n",
    "    fill_color = 'YlOrBr', fill_opacity=0.6, line_opacity=0.1,\n",
    "    legend_name = \"Count of players\").add_to(map)\n",
    "folium.LayerControl().add_to(map)\n",
    "\n",
    "map"
   ]
  },
  {
   "cell_type": "code",
   "execution_count": null,
   "id": "562bd19d",
   "metadata": {},
   "outputs": [],
   "source": [
    "map.save('plot_data.html')"
   ]
  },
  {
   "cell_type": "markdown",
   "id": "60282bf6",
   "metadata": {},
   "source": [
    "### 5. Discuss the results and what they mean in a markdown section."
   ]
  },
  {
   "cell_type": "markdown",
   "id": "81a4bd5a",
   "metadata": {},
   "source": [
    "##### Does the analysis answer any of your existing research questions?\n",
    "##### Yes, the analysis show me which countries have more or less players "
   ]
  },
  {
   "cell_type": "markdown",
   "id": "1227746c",
   "metadata": {},
   "source": [
    "##### Does the analysis lead you to any new research questions?\n",
    "#####  I will like to know why players of some nationalities are more "
   ]
  },
  {
   "cell_type": "code",
   "execution_count": null,
   "id": "8ec2ab18",
   "metadata": {},
   "outputs": [],
   "source": [
    "# Export the data with player count\n",
    "fifa_21_new.to_csv(os.path.join(path,'FIFA 21 Ratings Project', 'Data','Prepared Data', 'fifa_21_updated.csv'))"
   ]
  },
  {
   "cell_type": "code",
   "execution_count": null,
   "id": "51e1c239",
   "metadata": {},
   "outputs": [],
   "source": []
  }
 ],
 "metadata": {
  "kernelspec": {
   "display_name": "Python 3",
   "language": "python",
   "name": "python3"
  },
  "language_info": {
   "codemirror_mode": {
    "name": "ipython",
    "version": 3
   },
   "file_extension": ".py",
   "mimetype": "text/x-python",
   "name": "python",
   "nbconvert_exporter": "python",
   "pygments_lexer": "ipython3",
   "version": "3.8.8"
  }
 },
 "nbformat": 4,
 "nbformat_minor": 5
}
