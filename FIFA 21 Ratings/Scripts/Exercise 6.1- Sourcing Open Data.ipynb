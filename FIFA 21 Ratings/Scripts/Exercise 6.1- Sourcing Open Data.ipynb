{
 "cells": [
  {
   "cell_type": "markdown",
   "id": "b01d794d",
   "metadata": {},
   "source": [
    "## Task 6.1\n",
    "#### 1. Source of open data\n",
    "#### 2. Data quality and consistency check\n",
    "#### 3. Basic Descriptive statistics"
   ]
  },
  {
   "cell_type": "code",
   "execution_count": 1,
   "id": "406d4a47",
   "metadata": {},
   "outputs": [],
   "source": [
    "# Import libraries\n",
    "import pandas as pd\n",
    "import numpy as np\n",
    "import os"
   ]
  },
  {
   "cell_type": "markdown",
   "id": "0e12513a",
   "metadata": {},
   "source": [
    "#### 1. Source of open data"
   ]
  },
  {
   "cell_type": "code",
   "execution_count": 2,
   "id": "0976518a",
   "metadata": {},
   "outputs": [],
   "source": [
    "path=r\"C:\\Users\\acisk\\Dropbox\\My PC (DESKTOP-SO8P63N)\\Desktop\\Data Analytics\\Achievement 6 Project- Advanced Analytics & Dashboard Design\""
   ]
  },
  {
   "cell_type": "code",
   "execution_count": 3,
   "id": "dec62fb7",
   "metadata": {},
   "outputs": [],
   "source": [
    "df_fifa21= pd.read_csv(os.path.join(path, 'players_ratings21.csv'), index_col = False)"
   ]
  },
  {
   "cell_type": "code",
   "execution_count": 4,
   "id": "aac70770",
   "metadata": {},
   "outputs": [
    {
     "data": {
      "text/plain": [
       "(18944, 106)"
      ]
     },
     "execution_count": 4,
     "metadata": {},
     "output_type": "execute_result"
    }
   ],
   "source": [
    "df_fifa21.shape"
   ]
  },
  {
   "cell_type": "code",
   "execution_count": 5,
   "id": "767e5eab",
   "metadata": {},
   "outputs": [
    {
     "data": {
      "text/html": [
       "<div>\n",
       "<style scoped>\n",
       "    .dataframe tbody tr th:only-of-type {\n",
       "        vertical-align: middle;\n",
       "    }\n",
       "\n",
       "    .dataframe tbody tr th {\n",
       "        vertical-align: top;\n",
       "    }\n",
       "\n",
       "    .dataframe thead th {\n",
       "        text-align: right;\n",
       "    }\n",
       "</style>\n",
       "<table border=\"1\" class=\"dataframe\">\n",
       "  <thead>\n",
       "    <tr style=\"text-align: right;\">\n",
       "      <th></th>\n",
       "      <th>sofifa_id</th>\n",
       "      <th>player_url</th>\n",
       "      <th>short_name</th>\n",
       "      <th>long_name</th>\n",
       "      <th>age</th>\n",
       "      <th>dob</th>\n",
       "      <th>height_cm</th>\n",
       "      <th>weight_kg</th>\n",
       "      <th>nationality</th>\n",
       "      <th>club_name</th>\n",
       "      <th>...</th>\n",
       "      <th>lwb</th>\n",
       "      <th>ldm</th>\n",
       "      <th>cdm</th>\n",
       "      <th>rdm</th>\n",
       "      <th>rwb</th>\n",
       "      <th>lb</th>\n",
       "      <th>lcb</th>\n",
       "      <th>cb</th>\n",
       "      <th>rcb</th>\n",
       "      <th>rb</th>\n",
       "    </tr>\n",
       "  </thead>\n",
       "  <tbody>\n",
       "    <tr>\n",
       "      <th>0</th>\n",
       "      <td>158023</td>\n",
       "      <td>https://sofifa.com/player/158023/lionel-messi/...</td>\n",
       "      <td>L. Messi</td>\n",
       "      <td>Lionel Andr��s Messi Cuccit</td>\n",
       "      <td>33</td>\n",
       "      <td>24/06/1987</td>\n",
       "      <td>170</td>\n",
       "      <td>72</td>\n",
       "      <td>Argentina</td>\n",
       "      <td>FC Barcelona</td>\n",
       "      <td>...</td>\n",
       "      <td>66+3</td>\n",
       "      <td>65+3</td>\n",
       "      <td>65+3</td>\n",
       "      <td>65+3</td>\n",
       "      <td>66+3</td>\n",
       "      <td>62+3</td>\n",
       "      <td>52+3</td>\n",
       "      <td>52+3</td>\n",
       "      <td>52+3</td>\n",
       "      <td>62+3</td>\n",
       "    </tr>\n",
       "    <tr>\n",
       "      <th>1</th>\n",
       "      <td>20801</td>\n",
       "      <td>https://sofifa.com/player/20801/c-ronaldo-dos-...</td>\n",
       "      <td>Cristiano Ronaldo</td>\n",
       "      <td>Cristiano Ronaldo dos Santos Aveiro</td>\n",
       "      <td>35</td>\n",
       "      <td>05/02/1985</td>\n",
       "      <td>187</td>\n",
       "      <td>83</td>\n",
       "      <td>Portugal</td>\n",
       "      <td>Juventus</td>\n",
       "      <td>...</td>\n",
       "      <td>65+3</td>\n",
       "      <td>61+3</td>\n",
       "      <td>61+3</td>\n",
       "      <td>61+3</td>\n",
       "      <td>65+3</td>\n",
       "      <td>61+3</td>\n",
       "      <td>54+3</td>\n",
       "      <td>54+3</td>\n",
       "      <td>54+3</td>\n",
       "      <td>61+3</td>\n",
       "    </tr>\n",
       "    <tr>\n",
       "      <th>2</th>\n",
       "      <td>200389</td>\n",
       "      <td>https://sofifa.com/player/200389/jan-oblak/210002</td>\n",
       "      <td>J. Oblak</td>\n",
       "      <td>Jan Oblak</td>\n",
       "      <td>27</td>\n",
       "      <td>07/01/1993</td>\n",
       "      <td>188</td>\n",
       "      <td>87</td>\n",
       "      <td>Slovenia</td>\n",
       "      <td>Atl��tico Ma</td>\n",
       "      <td>...</td>\n",
       "      <td>32+3</td>\n",
       "      <td>36+3</td>\n",
       "      <td>36+3</td>\n",
       "      <td>36+3</td>\n",
       "      <td>32+3</td>\n",
       "      <td>32+3</td>\n",
       "      <td>33+3</td>\n",
       "      <td>33+3</td>\n",
       "      <td>33+3</td>\n",
       "      <td>32+3</td>\n",
       "    </tr>\n",
       "    <tr>\n",
       "      <th>3</th>\n",
       "      <td>188545</td>\n",
       "      <td>https://sofifa.com/player/188545/robert-lewand...</td>\n",
       "      <td>R. Lewandowski</td>\n",
       "      <td>Robert Lewandowski</td>\n",
       "      <td>31</td>\n",
       "      <td>21/08/1988</td>\n",
       "      <td>184</td>\n",
       "      <td>80</td>\n",
       "      <td>Poland</td>\n",
       "      <td>FC Bayern M��n</td>\n",
       "      <td>...</td>\n",
       "      <td>64+3</td>\n",
       "      <td>65+3</td>\n",
       "      <td>65+3</td>\n",
       "      <td>65+3</td>\n",
       "      <td>64+3</td>\n",
       "      <td>61+3</td>\n",
       "      <td>60+3</td>\n",
       "      <td>60+3</td>\n",
       "      <td>60+3</td>\n",
       "      <td>61+3</td>\n",
       "    </tr>\n",
       "    <tr>\n",
       "      <th>4</th>\n",
       "      <td>190871</td>\n",
       "      <td>https://sofifa.com/player/190871/neymar-da-sil...</td>\n",
       "      <td>Neymar Jr</td>\n",
       "      <td>Neymar da Silva Santos J��</td>\n",
       "      <td>28</td>\n",
       "      <td>05/02/1992</td>\n",
       "      <td>175</td>\n",
       "      <td>68</td>\n",
       "      <td>Brazil</td>\n",
       "      <td>Paris Saint-Germain</td>\n",
       "      <td>...</td>\n",
       "      <td>67+3</td>\n",
       "      <td>62+3</td>\n",
       "      <td>62+3</td>\n",
       "      <td>62+3</td>\n",
       "      <td>67+3</td>\n",
       "      <td>62+3</td>\n",
       "      <td>49+3</td>\n",
       "      <td>49+3</td>\n",
       "      <td>49+3</td>\n",
       "      <td>62+3</td>\n",
       "    </tr>\n",
       "  </tbody>\n",
       "</table>\n",
       "<p>5 rows × 106 columns</p>\n",
       "</div>"
      ],
      "text/plain": [
       "   sofifa_id                                         player_url  \\\n",
       "0     158023  https://sofifa.com/player/158023/lionel-messi/...   \n",
       "1      20801  https://sofifa.com/player/20801/c-ronaldo-dos-...   \n",
       "2     200389  https://sofifa.com/player/200389/jan-oblak/210002   \n",
       "3     188545  https://sofifa.com/player/188545/robert-lewand...   \n",
       "4     190871  https://sofifa.com/player/190871/neymar-da-sil...   \n",
       "\n",
       "          short_name                            long_name  age         dob  \\\n",
       "0           L. Messi          Lionel Andr��s Messi Cuccit   33  24/06/1987   \n",
       "1  Cristiano Ronaldo  Cristiano Ronaldo dos Santos Aveiro   35  05/02/1985   \n",
       "2           J. Oblak                            Jan Oblak   27  07/01/1993   \n",
       "3     R. Lewandowski                   Robert Lewandowski   31  21/08/1988   \n",
       "4          Neymar Jr           Neymar da Silva Santos J��   28  05/02/1992   \n",
       "\n",
       "   height_cm  weight_kg nationality            club_name  ...   lwb   ldm  \\\n",
       "0        170         72   Argentina         FC Barcelona  ...  66+3  65+3   \n",
       "1        187         83    Portugal             Juventus  ...  65+3  61+3   \n",
       "2        188         87    Slovenia         Atl��tico Ma  ...  32+3  36+3   \n",
       "3        184         80      Poland       FC Bayern M��n  ...  64+3  65+3   \n",
       "4        175         68      Brazil  Paris Saint-Germain  ...  67+3  62+3   \n",
       "\n",
       "    cdm   rdm   rwb    lb   lcb    cb   rcb    rb  \n",
       "0  65+3  65+3  66+3  62+3  52+3  52+3  52+3  62+3  \n",
       "1  61+3  61+3  65+3  61+3  54+3  54+3  54+3  61+3  \n",
       "2  36+3  36+3  32+3  32+3  33+3  33+3  33+3  32+3  \n",
       "3  65+3  65+3  64+3  61+3  60+3  60+3  60+3  61+3  \n",
       "4  62+3  62+3  67+3  62+3  49+3  49+3  49+3  62+3  \n",
       "\n",
       "[5 rows x 106 columns]"
      ]
     },
     "execution_count": 5,
     "metadata": {},
     "output_type": "execute_result"
    }
   ],
   "source": [
    "df_fifa21.head()"
   ]
  },
  {
   "cell_type": "code",
   "execution_count": 6,
   "id": "1774e7b0",
   "metadata": {},
   "outputs": [
    {
     "name": "stdout",
     "output_type": "stream",
     "text": [
      "['sofifa_id', 'player_url', 'short_name', 'long_name', 'age', 'dob', 'height_cm', 'weight_kg', 'nationality', 'club_name', 'league_name', 'league_rank', 'overall', 'potential', 'value_eur', 'wage_eur', 'player_positions', 'preferred_foot', 'international_reputation', 'weak_foot', 'skill_moves', 'work_rate', 'body_type', 'real_face', 'release_clause_eur', 'player_tags', 'team_position', 'team_jersey_number', 'loaned_from', 'joined', 'contract_valid_until', 'nation_position', 'nation_jersey_number', 'pace', 'shooting', 'passing', 'dribbling', 'defending', 'physic', 'gk_diving', 'gk_handling', 'gk_kicking', 'gk_reflexes', 'gk_speed', 'gk_positioning', 'player_traits', 'attacking_crossing', 'attacking_finishing', 'attacking_heading_accuracy', 'attacking_short_passing', 'attacking_volleys', 'skill_dribbling', 'skill_curve', 'skill_fk_accuracy', 'skill_long_passing', 'skill_ball_control', 'movement_acceleration', 'movement_sprint_speed', 'movement_agility', 'movement_reactions', 'movement_balance', 'power_shot_power', 'power_jumping', 'power_stamina', 'power_strength', 'power_long_shots', 'mentality_aggression', 'mentality_interceptions', 'mentality_positioning', 'mentality_vision', 'mentality_penalties', 'mentality_composure', 'defending_marking', 'defending_standing_tackle', 'defending_sliding_tackle', 'goalkeeping_diving', 'goalkeeping_handling', 'goalkeeping_kicking', 'goalkeeping_positioning', 'goalkeeping_reflexes', 'ls', 'st', 'rs', 'lw', 'lf', 'cf', 'rf', 'rw', 'lam', 'cam', 'ram', 'lm', 'lcm', 'cm', 'rcm', 'rm', 'lwb', 'ldm', 'cdm', 'rdm', 'rwb', 'lb', 'lcb', 'cb', 'rcb', 'rb']\n"
     ]
    }
   ],
   "source": [
    "print(df_fifa21.columns.tolist())"
   ]
  },
  {
   "cell_type": "code",
   "execution_count": 69,
   "id": "62d1d8e0",
   "metadata": {},
   "outputs": [],
   "source": [
    "# Selecting the needed columns\n",
    "df_fifa21_new = df_fifa21[['sofifa_id', 'age', 'height_cm', 'weight_kg', 'nationality',\n",
    "       'club_name', 'league_name', 'league_rank', 'overall',\n",
    "       'value_eur', 'wage_eur', 'player_positions', 'preferred_foot',\n",
    "       'international_reputation', 'weak_foot', 'skill_moves', 'work_rate', 'team_position', 'team_jersey_number', 'joined',\n",
    "       'contract_valid_until']]"
   ]
  },
  {
   "cell_type": "code",
   "execution_count": 8,
   "id": "6b68cef5",
   "metadata": {},
   "outputs": [
    {
     "data": {
      "text/plain": [
       "Index(['sofifa_id', 'age', 'height_cm', 'weight_kg', 'nationality',\n",
       "       'club_name', 'league_name', 'league_rank', 'overall', 'value_eur',\n",
       "       'wage_eur', 'player_positions', 'preferred_foot',\n",
       "       'international_reputation', 'weak_foot', 'skill_moves', 'work_rate',\n",
       "       'team_position', 'team_jersey_number', 'joined',\n",
       "       'contract_valid_until'],\n",
       "      dtype='object')"
      ]
     },
     "execution_count": 8,
     "metadata": {},
     "output_type": "execute_result"
    }
   ],
   "source": [
    "df_fifa21_new.columns"
   ]
  },
  {
   "cell_type": "markdown",
   "id": "9749a345",
   "metadata": {},
   "source": [
    "#### 2. Data quality and consistency check"
   ]
  },
  {
   "cell_type": "code",
   "execution_count": 40,
   "id": "444504de",
   "metadata": {},
   "outputs": [
    {
     "name": "stderr",
     "output_type": "stream",
     "text": [
      "C:\\Users\\acisk\\anaconda3\\lib\\site-packages\\pandas\\core\\frame.py:4441: SettingWithCopyWarning: \n",
      "A value is trying to be set on a copy of a slice from a DataFrame\n",
      "\n",
      "See the caveats in the documentation: https://pandas.pydata.org/pandas-docs/stable/user_guide/indexing.html#returning-a-view-versus-a-copy\n",
      "  return super().rename(\n"
     ]
    }
   ],
   "source": [
    "#Rename overall column to player_rating\n",
    "df_fifa21_new.rename(columns={'overall': 'player_rating'}, inplace=True)"
   ]
  },
  {
   "cell_type": "code",
   "execution_count": 43,
   "id": "801aacb7",
   "metadata": {},
   "outputs": [
    {
     "name": "stdout",
     "output_type": "stream",
     "text": [
      "club_name\n",
      "league_name\n",
      "team_position\n",
      "joined\n"
     ]
    }
   ],
   "source": [
    "#Checking for mixed data types\n",
    "for col in df_fifa21_new.columns.tolist():\n",
    "  weird = (df_fifa21_new[[col]].applymap(type) != df_fifa21_new[[col]].iloc[0].apply(type)).any(axis = 1)\n",
    "  if len (df_fifa21_new[weird]) > 0:\n",
    "    print (col)"
   ]
  },
  {
   "cell_type": "code",
   "execution_count": 44,
   "id": "5cab7716",
   "metadata": {},
   "outputs": [
    {
     "data": {
      "text/plain": [
       "dtype('O')"
      ]
     },
     "execution_count": 44,
     "metadata": {},
     "output_type": "execute_result"
    }
   ],
   "source": [
    "df_fifa21_new['team_position'].dtypes"
   ]
  },
  {
   "cell_type": "code",
   "execution_count": 45,
   "id": "01f99d82",
   "metadata": {},
   "outputs": [
    {
     "data": {
      "text/plain": [
       "dtype('O')"
      ]
     },
     "execution_count": 45,
     "metadata": {},
     "output_type": "execute_result"
    }
   ],
   "source": [
    "df_fifa21_new['team_position'].dtypes"
   ]
  },
  {
   "cell_type": "code",
   "execution_count": 46,
   "id": "b5ba0149",
   "metadata": {},
   "outputs": [
    {
     "data": {
      "text/plain": [
       "sofifa_id                     0\n",
       "age                           0\n",
       "height_cm                     0\n",
       "weight_kg                     0\n",
       "nationality                   0\n",
       "club_name                   225\n",
       "league_name                 225\n",
       "league_rank                 225\n",
       "player_rating                 0\n",
       "value_eur                     0\n",
       "wage_eur                      0\n",
       "player_positions              0\n",
       "preferred_foot                0\n",
       "international_reputation      0\n",
       "weak_foot                     0\n",
       "skill_moves                   0\n",
       "work_rate                     0\n",
       "team_position               225\n",
       "team_jersey_number          225\n",
       "joined                      983\n",
       "contract_valid_until        225\n",
       "dtype: int64"
      ]
     },
     "execution_count": 46,
     "metadata": {},
     "output_type": "execute_result"
    }
   ],
   "source": [
    "#Check missing values\n",
    "df_fifa21_new.isnull().sum()"
   ]
  },
  {
   "cell_type": "code",
   "execution_count": 47,
   "id": "6842d7d7",
   "metadata": {},
   "outputs": [],
   "source": [
    "df_fifa21_missing= df_fifa21_new[df_fifa21_new.isnull()== True]"
   ]
  },
  {
   "cell_type": "code",
   "execution_count": 48,
   "id": "894160e3",
   "metadata": {},
   "outputs": [],
   "source": [
    "# Dropping the columns joined\n",
    "df_fifa_drop= df_fifa21_new.drop(['joined'], axis= 1)"
   ]
  },
  {
   "cell_type": "code",
   "execution_count": 49,
   "id": "2e1d81e6",
   "metadata": {},
   "outputs": [
    {
     "data": {
      "text/plain": [
       "(18944, 20)"
      ]
     },
     "execution_count": 49,
     "metadata": {},
     "output_type": "execute_result"
    }
   ],
   "source": [
    "#Check if its effective\n",
    "df_fifa_drop.shape"
   ]
  },
  {
   "cell_type": "code",
   "execution_count": 50,
   "id": "066deca8",
   "metadata": {},
   "outputs": [],
   "source": [
    "#Drop rows with missing values\n",
    "df_fifa_clean= df_fifa_drop.dropna()"
   ]
  },
  {
   "cell_type": "code",
   "execution_count": 51,
   "id": "5c4ef937",
   "metadata": {},
   "outputs": [
    {
     "data": {
      "text/plain": [
       "(18719, 20)"
      ]
     },
     "execution_count": 51,
     "metadata": {},
     "output_type": "execute_result"
    }
   ],
   "source": [
    "df_fifa_clean.shape"
   ]
  },
  {
   "cell_type": "code",
   "execution_count": 52,
   "id": "a7854c86",
   "metadata": {},
   "outputs": [],
   "source": [
    "#Checking for duplicate\n",
    "df_fifa21_dups = df_fifa_clean[df_fifa_clean.duplicated()]"
   ]
  },
  {
   "cell_type": "code",
   "execution_count": 53,
   "id": "ee158946",
   "metadata": {},
   "outputs": [
    {
     "data": {
      "text/html": [
       "<div>\n",
       "<style scoped>\n",
       "    .dataframe tbody tr th:only-of-type {\n",
       "        vertical-align: middle;\n",
       "    }\n",
       "\n",
       "    .dataframe tbody tr th {\n",
       "        vertical-align: top;\n",
       "    }\n",
       "\n",
       "    .dataframe thead th {\n",
       "        text-align: right;\n",
       "    }\n",
       "</style>\n",
       "<table border=\"1\" class=\"dataframe\">\n",
       "  <thead>\n",
       "    <tr style=\"text-align: right;\">\n",
       "      <th></th>\n",
       "      <th>sofifa_id</th>\n",
       "      <th>age</th>\n",
       "      <th>height_cm</th>\n",
       "      <th>weight_kg</th>\n",
       "      <th>nationality</th>\n",
       "      <th>club_name</th>\n",
       "      <th>league_name</th>\n",
       "      <th>league_rank</th>\n",
       "      <th>player_rating</th>\n",
       "      <th>value_eur</th>\n",
       "      <th>wage_eur</th>\n",
       "      <th>player_positions</th>\n",
       "      <th>preferred_foot</th>\n",
       "      <th>international_reputation</th>\n",
       "      <th>weak_foot</th>\n",
       "      <th>skill_moves</th>\n",
       "      <th>work_rate</th>\n",
       "      <th>team_position</th>\n",
       "      <th>team_jersey_number</th>\n",
       "      <th>contract_valid_until</th>\n",
       "    </tr>\n",
       "  </thead>\n",
       "  <tbody>\n",
       "  </tbody>\n",
       "</table>\n",
       "</div>"
      ],
      "text/plain": [
       "Empty DataFrame\n",
       "Columns: [sofifa_id, age, height_cm, weight_kg, nationality, club_name, league_name, league_rank, player_rating, value_eur, wage_eur, player_positions, preferred_foot, international_reputation, weak_foot, skill_moves, work_rate, team_position, team_jersey_number, contract_valid_until]\n",
       "Index: []"
      ]
     },
     "execution_count": 53,
     "metadata": {},
     "output_type": "execute_result"
    }
   ],
   "source": [
    "df_fifa21_dups"
   ]
  },
  {
   "cell_type": "code",
   "execution_count": 54,
   "id": "ccfb66ae",
   "metadata": {},
   "outputs": [
    {
     "data": {
      "text/plain": [
       "dtype('O')"
      ]
     },
     "execution_count": 54,
     "metadata": {},
     "output_type": "execute_result"
    }
   ],
   "source": [
    "df_fifa_clean['club_name'].dtypes"
   ]
  },
  {
   "cell_type": "code",
   "execution_count": 55,
   "id": "3285e595",
   "metadata": {},
   "outputs": [
    {
     "data": {
      "text/plain": [
       "(18719, 20)"
      ]
     },
     "execution_count": 55,
     "metadata": {},
     "output_type": "execute_result"
    }
   ],
   "source": [
    "df_fifa_clean.shape"
   ]
  },
  {
   "cell_type": "markdown",
   "id": "e962f1a7",
   "metadata": {},
   "source": [
    "#### 3. Basic Descriptive statistics"
   ]
  },
  {
   "cell_type": "code",
   "execution_count": 56,
   "id": "7340e0ef",
   "metadata": {},
   "outputs": [
    {
     "data": {
      "text/html": [
       "<div>\n",
       "<style scoped>\n",
       "    .dataframe tbody tr th:only-of-type {\n",
       "        vertical-align: middle;\n",
       "    }\n",
       "\n",
       "    .dataframe tbody tr th {\n",
       "        vertical-align: top;\n",
       "    }\n",
       "\n",
       "    .dataframe thead th {\n",
       "        text-align: right;\n",
       "    }\n",
       "</style>\n",
       "<table border=\"1\" class=\"dataframe\">\n",
       "  <thead>\n",
       "    <tr style=\"text-align: right;\">\n",
       "      <th></th>\n",
       "      <th>sofifa_id</th>\n",
       "      <th>age</th>\n",
       "      <th>height_cm</th>\n",
       "      <th>weight_kg</th>\n",
       "      <th>league_rank</th>\n",
       "      <th>player_rating</th>\n",
       "      <th>value_eur</th>\n",
       "      <th>wage_eur</th>\n",
       "      <th>international_reputation</th>\n",
       "      <th>weak_foot</th>\n",
       "      <th>skill_moves</th>\n",
       "      <th>team_jersey_number</th>\n",
       "      <th>contract_valid_until</th>\n",
       "    </tr>\n",
       "  </thead>\n",
       "  <tbody>\n",
       "    <tr>\n",
       "      <th>count</th>\n",
       "      <td>18719.000000</td>\n",
       "      <td>18719.000000</td>\n",
       "      <td>18719.000000</td>\n",
       "      <td>18719.000000</td>\n",
       "      <td>18719.000000</td>\n",
       "      <td>18719.000000</td>\n",
       "      <td>1.871900e+04</td>\n",
       "      <td>18719.000000</td>\n",
       "      <td>18719.000000</td>\n",
       "      <td>18719.000000</td>\n",
       "      <td>18719.000000</td>\n",
       "      <td>18719.000000</td>\n",
       "      <td>18719.000000</td>\n",
       "    </tr>\n",
       "    <tr>\n",
       "      <th>mean</th>\n",
       "      <td>226210.152198</td>\n",
       "      <td>25.177787</td>\n",
       "      <td>181.190074</td>\n",
       "      <td>75.006945</td>\n",
       "      <td>1.357070</td>\n",
       "      <td>65.635023</td>\n",
       "      <td>2.251555e+06</td>\n",
       "      <td>8780.135157</td>\n",
       "      <td>1.091832</td>\n",
       "      <td>2.935787</td>\n",
       "      <td>2.362680</td>\n",
       "      <td>20.589668</td>\n",
       "      <td>2021.983332</td>\n",
       "    </tr>\n",
       "    <tr>\n",
       "      <th>std</th>\n",
       "      <td>27192.890940</td>\n",
       "      <td>4.682187</td>\n",
       "      <td>6.819258</td>\n",
       "      <td>7.053984</td>\n",
       "      <td>0.739327</td>\n",
       "      <td>7.003908</td>\n",
       "      <td>5.127193e+06</td>\n",
       "      <td>19749.383757</td>\n",
       "      <td>0.362167</td>\n",
       "      <td>0.666895</td>\n",
       "      <td>0.765856</td>\n",
       "      <td>17.057568</td>\n",
       "      <td>1.260426</td>\n",
       "    </tr>\n",
       "    <tr>\n",
       "      <th>min</th>\n",
       "      <td>41.000000</td>\n",
       "      <td>16.000000</td>\n",
       "      <td>155.000000</td>\n",
       "      <td>50.000000</td>\n",
       "      <td>1.000000</td>\n",
       "      <td>47.000000</td>\n",
       "      <td>0.000000e+00</td>\n",
       "      <td>500.000000</td>\n",
       "      <td>1.000000</td>\n",
       "      <td>1.000000</td>\n",
       "      <td>1.000000</td>\n",
       "      <td>1.000000</td>\n",
       "      <td>2020.000000</td>\n",
       "    </tr>\n",
       "    <tr>\n",
       "      <th>25%</th>\n",
       "      <td>210019.500000</td>\n",
       "      <td>21.000000</td>\n",
       "      <td>176.000000</td>\n",
       "      <td>70.000000</td>\n",
       "      <td>1.000000</td>\n",
       "      <td>61.000000</td>\n",
       "      <td>3.000000e+05</td>\n",
       "      <td>1000.000000</td>\n",
       "      <td>1.000000</td>\n",
       "      <td>3.000000</td>\n",
       "      <td>2.000000</td>\n",
       "      <td>9.000000</td>\n",
       "      <td>2021.000000</td>\n",
       "    </tr>\n",
       "    <tr>\n",
       "      <th>50%</th>\n",
       "      <td>232285.000000</td>\n",
       "      <td>25.000000</td>\n",
       "      <td>181.000000</td>\n",
       "      <td>75.000000</td>\n",
       "      <td>1.000000</td>\n",
       "      <td>66.000000</td>\n",
       "      <td>6.500000e+05</td>\n",
       "      <td>3000.000000</td>\n",
       "      <td>1.000000</td>\n",
       "      <td>3.000000</td>\n",
       "      <td>2.000000</td>\n",
       "      <td>18.000000</td>\n",
       "      <td>2022.000000</td>\n",
       "    </tr>\n",
       "    <tr>\n",
       "      <th>75%</th>\n",
       "      <td>246719.500000</td>\n",
       "      <td>28.000000</td>\n",
       "      <td>186.000000</td>\n",
       "      <td>80.000000</td>\n",
       "      <td>1.000000</td>\n",
       "      <td>70.000000</td>\n",
       "      <td>1.800000e+06</td>\n",
       "      <td>8000.000000</td>\n",
       "      <td>1.000000</td>\n",
       "      <td>3.000000</td>\n",
       "      <td>3.000000</td>\n",
       "      <td>27.000000</td>\n",
       "      <td>2023.000000</td>\n",
       "    </tr>\n",
       "    <tr>\n",
       "      <th>max</th>\n",
       "      <td>258970.000000</td>\n",
       "      <td>53.000000</td>\n",
       "      <td>206.000000</td>\n",
       "      <td>110.000000</td>\n",
       "      <td>4.000000</td>\n",
       "      <td>93.000000</td>\n",
       "      <td>1.055000e+08</td>\n",
       "      <td>560000.000000</td>\n",
       "      <td>5.000000</td>\n",
       "      <td>5.000000</td>\n",
       "      <td>5.000000</td>\n",
       "      <td>99.000000</td>\n",
       "      <td>2028.000000</td>\n",
       "    </tr>\n",
       "  </tbody>\n",
       "</table>\n",
       "</div>"
      ],
      "text/plain": [
       "           sofifa_id           age     height_cm     weight_kg   league_rank  \\\n",
       "count   18719.000000  18719.000000  18719.000000  18719.000000  18719.000000   \n",
       "mean   226210.152198     25.177787    181.190074     75.006945      1.357070   \n",
       "std     27192.890940      4.682187      6.819258      7.053984      0.739327   \n",
       "min        41.000000     16.000000    155.000000     50.000000      1.000000   \n",
       "25%    210019.500000     21.000000    176.000000     70.000000      1.000000   \n",
       "50%    232285.000000     25.000000    181.000000     75.000000      1.000000   \n",
       "75%    246719.500000     28.000000    186.000000     80.000000      1.000000   \n",
       "max    258970.000000     53.000000    206.000000    110.000000      4.000000   \n",
       "\n",
       "       player_rating     value_eur       wage_eur  international_reputation  \\\n",
       "count   18719.000000  1.871900e+04   18719.000000              18719.000000   \n",
       "mean       65.635023  2.251555e+06    8780.135157                  1.091832   \n",
       "std         7.003908  5.127193e+06   19749.383757                  0.362167   \n",
       "min        47.000000  0.000000e+00     500.000000                  1.000000   \n",
       "25%        61.000000  3.000000e+05    1000.000000                  1.000000   \n",
       "50%        66.000000  6.500000e+05    3000.000000                  1.000000   \n",
       "75%        70.000000  1.800000e+06    8000.000000                  1.000000   \n",
       "max        93.000000  1.055000e+08  560000.000000                  5.000000   \n",
       "\n",
       "          weak_foot   skill_moves  team_jersey_number  contract_valid_until  \n",
       "count  18719.000000  18719.000000        18719.000000          18719.000000  \n",
       "mean       2.935787      2.362680           20.589668           2021.983332  \n",
       "std        0.666895      0.765856           17.057568              1.260426  \n",
       "min        1.000000      1.000000            1.000000           2020.000000  \n",
       "25%        3.000000      2.000000            9.000000           2021.000000  \n",
       "50%        3.000000      2.000000           18.000000           2022.000000  \n",
       "75%        3.000000      3.000000           27.000000           2023.000000  \n",
       "max        5.000000      5.000000           99.000000           2028.000000  "
      ]
     },
     "execution_count": 56,
     "metadata": {},
     "output_type": "execute_result"
    }
   ],
   "source": [
    "df_fifa_clean.describe()"
   ]
  },
  {
   "cell_type": "code",
   "execution_count": 57,
   "id": "2a54d903",
   "metadata": {},
   "outputs": [
    {
     "data": {
      "text/plain": [
       "count                 18719\n",
       "unique                  681\n",
       "top       Tottenham Hotspur\n",
       "freq                     33\n",
       "Name: club_name, dtype: object"
      ]
     },
     "execution_count": 57,
     "metadata": {},
     "output_type": "execute_result"
    }
   ],
   "source": [
    "df_fifa_clean['club_name'].describe()"
   ]
  },
  {
   "cell_type": "code",
   "execution_count": 68,
   "id": "34910b76",
   "metadata": {},
   "outputs": [
    {
     "data": {
      "text/plain": [
       "2021.0    6808\n",
       "2022.0    4341\n",
       "2023.0    3393\n",
       "2024.0    2173\n",
       "2020.0    1453\n",
       "2025.0     544\n",
       "2026.0       5\n",
       "2028.0       1\n",
       "2027.0       1\n",
       "Name: contract_valid_until, dtype: int64"
      ]
     },
     "execution_count": 68,
     "metadata": {},
     "output_type": "execute_result"
    }
   ],
   "source": [
    "df_fifa_clean['contract_valid_until'].value_counts()"
   ]
  },
  {
   "cell_type": "code",
   "execution_count": 70,
   "id": "9af17f26",
   "metadata": {},
   "outputs": [],
   "source": [
    "#Exporting the clean data\n",
    "df_fifa_clean.to_csv(os.path.join(path, 'Data','Prepared Data', 'FIFA21_ratings.csv'))"
   ]
  },
  {
   "cell_type": "code",
   "execution_count": null,
   "id": "f9261308",
   "metadata": {},
   "outputs": [],
   "source": []
  }
 ],
 "metadata": {
  "kernelspec": {
   "display_name": "Python 3",
   "language": "python",
   "name": "python3"
  },
  "language_info": {
   "codemirror_mode": {
    "name": "ipython",
    "version": 3
   },
   "file_extension": ".py",
   "mimetype": "text/x-python",
   "name": "python",
   "nbconvert_exporter": "python",
   "pygments_lexer": "ipython3",
   "version": "3.8.8"
  }
 },
 "nbformat": 4,
 "nbformat_minor": 5
}
