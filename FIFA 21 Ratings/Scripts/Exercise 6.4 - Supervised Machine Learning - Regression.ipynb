{
 "cells": [
  {
   "cell_type": "markdown",
   "id": "9067a421",
   "metadata": {},
   "source": [
    "## Exercise 6.4 Supervised Machine Learning: Regression"
   ]
  },
  {
   "cell_type": "markdown",
   "id": "55a04c26",
   "metadata": {},
   "source": [
    "### This script contains the following:\n",
    "#### 1. Importing libraries and data\n",
    "#### 2. Data cleaning\n",
    "#### 3. Data preparation for regression analysis\n",
    "#### 4. Regression analysis¶"
   ]
  },
  {
   "cell_type": "markdown",
   "id": "d324eab8",
   "metadata": {},
   "source": [
    "### 1. Importing libraries and data"
   ]
  },
  {
   "cell_type": "code",
   "execution_count": 1,
   "id": "46d34c53",
   "metadata": {},
   "outputs": [],
   "source": [
    "import pandas as pd\n",
    "import numpy as np\n",
    "import seaborn as sns\n",
    "import matplotlib\n",
    "import matplotlib.pyplot as plt\n",
    "import os\n",
    "import sklearn\n",
    "from sklearn.model_selection import train_test_split \n",
    "from sklearn.linear_model import LinearRegression\n",
    "from sklearn.metrics import mean_squared_error, r2_score"
   ]
  },
  {
   "cell_type": "code",
   "execution_count": 2,
   "id": "4e8e20b3",
   "metadata": {},
   "outputs": [],
   "source": [
    "# This option ensures that the graphs you create are displayed within the notebook without the need to \"call\" them specifically.\n",
    "\n",
    "%matplotlib inline"
   ]
  },
  {
   "cell_type": "code",
   "execution_count": 3,
   "id": "42e97fa4",
   "metadata": {},
   "outputs": [],
   "source": [
    "path=r\"C:\\Users\\acisk\\Dropbox\\My PC (DESKTOP-SO8P63N)\\Desktop\\Data Analytics\\Achievement 6 Project- Advanced Analytics & Dashboard Design\""
   ]
  },
  {
   "cell_type": "code",
   "execution_count": 4,
   "id": "b191e8d6",
   "metadata": {},
   "outputs": [],
   "source": [
    "#Importing players data\n",
    "fifa_21= pd.read_csv(os.path.join(path, 'FIFA 21 Ratings Project','Data', 'Prepared Data', 'FIFA21_ratings.csv'), index_col = False)"
   ]
  },
  {
   "cell_type": "code",
   "execution_count": 5,
   "id": "1249d4d0",
   "metadata": {},
   "outputs": [
    {
     "data": {
      "text/html": [
       "<div>\n",
       "<style scoped>\n",
       "    .dataframe tbody tr th:only-of-type {\n",
       "        vertical-align: middle;\n",
       "    }\n",
       "\n",
       "    .dataframe tbody tr th {\n",
       "        vertical-align: top;\n",
       "    }\n",
       "\n",
       "    .dataframe thead th {\n",
       "        text-align: right;\n",
       "    }\n",
       "</style>\n",
       "<table border=\"1\" class=\"dataframe\">\n",
       "  <thead>\n",
       "    <tr style=\"text-align: right;\">\n",
       "      <th></th>\n",
       "      <th>Unnamed: 0</th>\n",
       "      <th>sofifa_id</th>\n",
       "      <th>age</th>\n",
       "      <th>height_cm</th>\n",
       "      <th>weight_kg</th>\n",
       "      <th>nationality</th>\n",
       "      <th>club_name</th>\n",
       "      <th>league_name</th>\n",
       "      <th>league_rank</th>\n",
       "      <th>player_rating</th>\n",
       "      <th>...</th>\n",
       "      <th>wage_eur</th>\n",
       "      <th>player_positions</th>\n",
       "      <th>preferred_foot</th>\n",
       "      <th>international_reputation</th>\n",
       "      <th>weak_foot</th>\n",
       "      <th>skill_moves</th>\n",
       "      <th>work_rate</th>\n",
       "      <th>team_position</th>\n",
       "      <th>team_jersey_number</th>\n",
       "      <th>contract_valid_until</th>\n",
       "    </tr>\n",
       "  </thead>\n",
       "  <tbody>\n",
       "    <tr>\n",
       "      <th>0</th>\n",
       "      <td>0</td>\n",
       "      <td>158023</td>\n",
       "      <td>33</td>\n",
       "      <td>170</td>\n",
       "      <td>72</td>\n",
       "      <td>Argentina</td>\n",
       "      <td>FC Barcelona</td>\n",
       "      <td>Spain Primera Division</td>\n",
       "      <td>1.0</td>\n",
       "      <td>93</td>\n",
       "      <td>...</td>\n",
       "      <td>560000</td>\n",
       "      <td>RW, ST, CF</td>\n",
       "      <td>Left</td>\n",
       "      <td>5</td>\n",
       "      <td>4</td>\n",
       "      <td>4</td>\n",
       "      <td>Medium/Low</td>\n",
       "      <td>CAM</td>\n",
       "      <td>10.0</td>\n",
       "      <td>2021.0</td>\n",
       "    </tr>\n",
       "    <tr>\n",
       "      <th>1</th>\n",
       "      <td>1</td>\n",
       "      <td>20801</td>\n",
       "      <td>35</td>\n",
       "      <td>187</td>\n",
       "      <td>83</td>\n",
       "      <td>Portugal</td>\n",
       "      <td>Juventus</td>\n",
       "      <td>Italian Serie A</td>\n",
       "      <td>1.0</td>\n",
       "      <td>92</td>\n",
       "      <td>...</td>\n",
       "      <td>220000</td>\n",
       "      <td>ST, LW</td>\n",
       "      <td>Right</td>\n",
       "      <td>5</td>\n",
       "      <td>4</td>\n",
       "      <td>5</td>\n",
       "      <td>High/Low</td>\n",
       "      <td>LS</td>\n",
       "      <td>7.0</td>\n",
       "      <td>2022.0</td>\n",
       "    </tr>\n",
       "    <tr>\n",
       "      <th>2</th>\n",
       "      <td>2</td>\n",
       "      <td>200389</td>\n",
       "      <td>27</td>\n",
       "      <td>188</td>\n",
       "      <td>87</td>\n",
       "      <td>Slovenia</td>\n",
       "      <td>Atl��tico Ma</td>\n",
       "      <td>Spain Primera Division</td>\n",
       "      <td>1.0</td>\n",
       "      <td>91</td>\n",
       "      <td>...</td>\n",
       "      <td>125000</td>\n",
       "      <td>GK</td>\n",
       "      <td>Right</td>\n",
       "      <td>3</td>\n",
       "      <td>3</td>\n",
       "      <td>1</td>\n",
       "      <td>Medium/Medium</td>\n",
       "      <td>GK</td>\n",
       "      <td>13.0</td>\n",
       "      <td>2023.0</td>\n",
       "    </tr>\n",
       "    <tr>\n",
       "      <th>3</th>\n",
       "      <td>3</td>\n",
       "      <td>188545</td>\n",
       "      <td>31</td>\n",
       "      <td>184</td>\n",
       "      <td>80</td>\n",
       "      <td>Poland</td>\n",
       "      <td>FC Bayern M��n</td>\n",
       "      <td>German 1. Bundesliga</td>\n",
       "      <td>1.0</td>\n",
       "      <td>91</td>\n",
       "      <td>...</td>\n",
       "      <td>240000</td>\n",
       "      <td>ST</td>\n",
       "      <td>Right</td>\n",
       "      <td>4</td>\n",
       "      <td>4</td>\n",
       "      <td>4</td>\n",
       "      <td>High/Medium</td>\n",
       "      <td>ST</td>\n",
       "      <td>9.0</td>\n",
       "      <td>2023.0</td>\n",
       "    </tr>\n",
       "    <tr>\n",
       "      <th>4</th>\n",
       "      <td>4</td>\n",
       "      <td>190871</td>\n",
       "      <td>28</td>\n",
       "      <td>175</td>\n",
       "      <td>68</td>\n",
       "      <td>Brazil</td>\n",
       "      <td>Paris Saint-Germain</td>\n",
       "      <td>French Ligue 1</td>\n",
       "      <td>1.0</td>\n",
       "      <td>91</td>\n",
       "      <td>...</td>\n",
       "      <td>270000</td>\n",
       "      <td>LW, CAM</td>\n",
       "      <td>Right</td>\n",
       "      <td>5</td>\n",
       "      <td>5</td>\n",
       "      <td>5</td>\n",
       "      <td>High/Medium</td>\n",
       "      <td>LW</td>\n",
       "      <td>10.0</td>\n",
       "      <td>2022.0</td>\n",
       "    </tr>\n",
       "  </tbody>\n",
       "</table>\n",
       "<p>5 rows × 21 columns</p>\n",
       "</div>"
      ],
      "text/plain": [
       "   Unnamed: 0  sofifa_id  age  height_cm  weight_kg nationality  \\\n",
       "0           0     158023   33        170         72   Argentina   \n",
       "1           1      20801   35        187         83    Portugal   \n",
       "2           2     200389   27        188         87    Slovenia   \n",
       "3           3     188545   31        184         80      Poland   \n",
       "4           4     190871   28        175         68      Brazil   \n",
       "\n",
       "             club_name             league_name  league_rank  player_rating  \\\n",
       "0         FC Barcelona  Spain Primera Division          1.0             93   \n",
       "1             Juventus         Italian Serie A          1.0             92   \n",
       "2         Atl��tico Ma  Spain Primera Division          1.0             91   \n",
       "3       FC Bayern M��n    German 1. Bundesliga          1.0             91   \n",
       "4  Paris Saint-Germain          French Ligue 1          1.0             91   \n",
       "\n",
       "   ...  wage_eur  player_positions preferred_foot international_reputation  \\\n",
       "0  ...    560000        RW, ST, CF           Left                        5   \n",
       "1  ...    220000            ST, LW          Right                        5   \n",
       "2  ...    125000                GK          Right                        3   \n",
       "3  ...    240000                ST          Right                        4   \n",
       "4  ...    270000           LW, CAM          Right                        5   \n",
       "\n",
       "   weak_foot  skill_moves      work_rate team_position team_jersey_number  \\\n",
       "0          4            4     Medium/Low           CAM               10.0   \n",
       "1          4            5       High/Low            LS                7.0   \n",
       "2          3            1  Medium/Medium            GK               13.0   \n",
       "3          4            4    High/Medium            ST                9.0   \n",
       "4          5            5    High/Medium            LW               10.0   \n",
       "\n",
       "   contract_valid_until  \n",
       "0                2021.0  \n",
       "1                2022.0  \n",
       "2                2023.0  \n",
       "3                2023.0  \n",
       "4                2022.0  \n",
       "\n",
       "[5 rows x 21 columns]"
      ]
     },
     "execution_count": 5,
     "metadata": {},
     "output_type": "execute_result"
    }
   ],
   "source": [
    "fifa_21.head()"
   ]
  },
  {
   "cell_type": "markdown",
   "id": "c888b4d0",
   "metadata": {},
   "source": [
    "### 2. Data Cleaning"
   ]
  },
  {
   "cell_type": "code",
   "execution_count": 6,
   "id": "c8dc31a9",
   "metadata": {},
   "outputs": [],
   "source": [
    "#Dropping the unnammed column\n",
    "fifa_21.drop(columns=['Unnamed: 0'], inplace= True) "
   ]
  },
  {
   "cell_type": "code",
   "execution_count": 7,
   "id": "326a84b1",
   "metadata": {},
   "outputs": [
    {
     "data": {
      "text/html": [
       "<div>\n",
       "<style scoped>\n",
       "    .dataframe tbody tr th:only-of-type {\n",
       "        vertical-align: middle;\n",
       "    }\n",
       "\n",
       "    .dataframe tbody tr th {\n",
       "        vertical-align: top;\n",
       "    }\n",
       "\n",
       "    .dataframe thead th {\n",
       "        text-align: right;\n",
       "    }\n",
       "</style>\n",
       "<table border=\"1\" class=\"dataframe\">\n",
       "  <thead>\n",
       "    <tr style=\"text-align: right;\">\n",
       "      <th></th>\n",
       "      <th>sofifa_id</th>\n",
       "      <th>age</th>\n",
       "      <th>height_cm</th>\n",
       "      <th>weight_kg</th>\n",
       "      <th>nationality</th>\n",
       "      <th>club_name</th>\n",
       "      <th>league_name</th>\n",
       "      <th>league_rank</th>\n",
       "      <th>player_rating</th>\n",
       "      <th>value_eur</th>\n",
       "      <th>wage_eur</th>\n",
       "      <th>player_positions</th>\n",
       "      <th>preferred_foot</th>\n",
       "      <th>international_reputation</th>\n",
       "      <th>weak_foot</th>\n",
       "      <th>skill_moves</th>\n",
       "      <th>work_rate</th>\n",
       "      <th>team_position</th>\n",
       "      <th>team_jersey_number</th>\n",
       "      <th>contract_valid_until</th>\n",
       "    </tr>\n",
       "  </thead>\n",
       "  <tbody>\n",
       "    <tr>\n",
       "      <th>0</th>\n",
       "      <td>158023</td>\n",
       "      <td>33</td>\n",
       "      <td>170</td>\n",
       "      <td>72</td>\n",
       "      <td>Argentina</td>\n",
       "      <td>FC Barcelona</td>\n",
       "      <td>Spain Primera Division</td>\n",
       "      <td>1.0</td>\n",
       "      <td>93</td>\n",
       "      <td>67500000</td>\n",
       "      <td>560000</td>\n",
       "      <td>RW, ST, CF</td>\n",
       "      <td>Left</td>\n",
       "      <td>5</td>\n",
       "      <td>4</td>\n",
       "      <td>4</td>\n",
       "      <td>Medium/Low</td>\n",
       "      <td>CAM</td>\n",
       "      <td>10.0</td>\n",
       "      <td>2021.0</td>\n",
       "    </tr>\n",
       "    <tr>\n",
       "      <th>1</th>\n",
       "      <td>20801</td>\n",
       "      <td>35</td>\n",
       "      <td>187</td>\n",
       "      <td>83</td>\n",
       "      <td>Portugal</td>\n",
       "      <td>Juventus</td>\n",
       "      <td>Italian Serie A</td>\n",
       "      <td>1.0</td>\n",
       "      <td>92</td>\n",
       "      <td>46000000</td>\n",
       "      <td>220000</td>\n",
       "      <td>ST, LW</td>\n",
       "      <td>Right</td>\n",
       "      <td>5</td>\n",
       "      <td>4</td>\n",
       "      <td>5</td>\n",
       "      <td>High/Low</td>\n",
       "      <td>LS</td>\n",
       "      <td>7.0</td>\n",
       "      <td>2022.0</td>\n",
       "    </tr>\n",
       "    <tr>\n",
       "      <th>2</th>\n",
       "      <td>200389</td>\n",
       "      <td>27</td>\n",
       "      <td>188</td>\n",
       "      <td>87</td>\n",
       "      <td>Slovenia</td>\n",
       "      <td>Atl��tico Ma</td>\n",
       "      <td>Spain Primera Division</td>\n",
       "      <td>1.0</td>\n",
       "      <td>91</td>\n",
       "      <td>75000000</td>\n",
       "      <td>125000</td>\n",
       "      <td>GK</td>\n",
       "      <td>Right</td>\n",
       "      <td>3</td>\n",
       "      <td>3</td>\n",
       "      <td>1</td>\n",
       "      <td>Medium/Medium</td>\n",
       "      <td>GK</td>\n",
       "      <td>13.0</td>\n",
       "      <td>2023.0</td>\n",
       "    </tr>\n",
       "    <tr>\n",
       "      <th>3</th>\n",
       "      <td>188545</td>\n",
       "      <td>31</td>\n",
       "      <td>184</td>\n",
       "      <td>80</td>\n",
       "      <td>Poland</td>\n",
       "      <td>FC Bayern M��n</td>\n",
       "      <td>German 1. Bundesliga</td>\n",
       "      <td>1.0</td>\n",
       "      <td>91</td>\n",
       "      <td>80000000</td>\n",
       "      <td>240000</td>\n",
       "      <td>ST</td>\n",
       "      <td>Right</td>\n",
       "      <td>4</td>\n",
       "      <td>4</td>\n",
       "      <td>4</td>\n",
       "      <td>High/Medium</td>\n",
       "      <td>ST</td>\n",
       "      <td>9.0</td>\n",
       "      <td>2023.0</td>\n",
       "    </tr>\n",
       "    <tr>\n",
       "      <th>4</th>\n",
       "      <td>190871</td>\n",
       "      <td>28</td>\n",
       "      <td>175</td>\n",
       "      <td>68</td>\n",
       "      <td>Brazil</td>\n",
       "      <td>Paris Saint-Germain</td>\n",
       "      <td>French Ligue 1</td>\n",
       "      <td>1.0</td>\n",
       "      <td>91</td>\n",
       "      <td>90000000</td>\n",
       "      <td>270000</td>\n",
       "      <td>LW, CAM</td>\n",
       "      <td>Right</td>\n",
       "      <td>5</td>\n",
       "      <td>5</td>\n",
       "      <td>5</td>\n",
       "      <td>High/Medium</td>\n",
       "      <td>LW</td>\n",
       "      <td>10.0</td>\n",
       "      <td>2022.0</td>\n",
       "    </tr>\n",
       "  </tbody>\n",
       "</table>\n",
       "</div>"
      ],
      "text/plain": [
       "   sofifa_id  age  height_cm  weight_kg nationality            club_name  \\\n",
       "0     158023   33        170         72   Argentina         FC Barcelona   \n",
       "1      20801   35        187         83    Portugal             Juventus   \n",
       "2     200389   27        188         87    Slovenia         Atl��tico Ma   \n",
       "3     188545   31        184         80      Poland       FC Bayern M��n   \n",
       "4     190871   28        175         68      Brazil  Paris Saint-Germain   \n",
       "\n",
       "              league_name  league_rank  player_rating  value_eur  wage_eur  \\\n",
       "0  Spain Primera Division          1.0             93   67500000    560000   \n",
       "1         Italian Serie A          1.0             92   46000000    220000   \n",
       "2  Spain Primera Division          1.0             91   75000000    125000   \n",
       "3    German 1. Bundesliga          1.0             91   80000000    240000   \n",
       "4          French Ligue 1          1.0             91   90000000    270000   \n",
       "\n",
       "  player_positions preferred_foot  international_reputation  weak_foot  \\\n",
       "0       RW, ST, CF           Left                         5          4   \n",
       "1           ST, LW          Right                         5          4   \n",
       "2               GK          Right                         3          3   \n",
       "3               ST          Right                         4          4   \n",
       "4          LW, CAM          Right                         5          5   \n",
       "\n",
       "   skill_moves      work_rate team_position  team_jersey_number  \\\n",
       "0            4     Medium/Low           CAM                10.0   \n",
       "1            5       High/Low            LS                 7.0   \n",
       "2            1  Medium/Medium            GK                13.0   \n",
       "3            4    High/Medium            ST                 9.0   \n",
       "4            5    High/Medium            LW                10.0   \n",
       "\n",
       "   contract_valid_until  \n",
       "0                2021.0  \n",
       "1                2022.0  \n",
       "2                2023.0  \n",
       "3                2023.0  \n",
       "4                2022.0  "
      ]
     },
     "execution_count": 7,
     "metadata": {},
     "output_type": "execute_result"
    }
   ],
   "source": [
    "fifa_21.head()"
   ]
  },
  {
   "cell_type": "code",
   "execution_count": 8,
   "id": "c9851777",
   "metadata": {},
   "outputs": [
    {
     "data": {
      "text/plain": [
       "Index(['sofifa_id', 'age', 'height_cm', 'weight_kg', 'nationality',\n",
       "       'club_name', 'league_name', 'league_rank', 'player_rating', 'value_eur',\n",
       "       'wage_eur', 'player_positions', 'preferred_foot',\n",
       "       'international_reputation', 'weak_foot', 'skill_moves', 'work_rate',\n",
       "       'team_position', 'team_jersey_number', 'contract_valid_until'],\n",
       "      dtype='object')"
      ]
     },
     "execution_count": 8,
     "metadata": {},
     "output_type": "execute_result"
    }
   ],
   "source": [
    "fifa_21.columns"
   ]
  },
  {
   "cell_type": "code",
   "execution_count": 9,
   "id": "cd1f0781",
   "metadata": {},
   "outputs": [],
   "source": [
    "# Dropping the unneeded columns\n",
    "fifa_21_new= fifa_21[['sofifa_id', 'age', 'height_cm', 'weight_kg', 'player_rating', 'value_eur',\n",
    "       'wage_eur',]]"
   ]
  },
  {
   "cell_type": "code",
   "execution_count": 10,
   "id": "f38322ca",
   "metadata": {},
   "outputs": [
    {
     "data": {
      "text/plain": [
       "(18719, 7)"
      ]
     },
     "execution_count": 10,
     "metadata": {},
     "output_type": "execute_result"
    }
   ],
   "source": [
    "fifa_21_new.shape"
   ]
  },
  {
   "cell_type": "code",
   "execution_count": 16,
   "id": "8d80b077",
   "metadata": {},
   "outputs": [],
   "source": [
    "# Renaming the columns \n",
    "\n",
    "fifa_21_new.rename(columns = {'sofifa_id' : 'Player ID', 'age' : 'Age', 'value_eur': 'Market Value EUR',\n",
    "       'wage_eur' : 'Wages EUR'}, inplace = True)"
   ]
  },
  {
   "cell_type": "code",
   "execution_count": 17,
   "id": "5b8419d6",
   "metadata": {},
   "outputs": [
    {
     "data": {
      "text/html": [
       "<div>\n",
       "<style scoped>\n",
       "    .dataframe tbody tr th:only-of-type {\n",
       "        vertical-align: middle;\n",
       "    }\n",
       "\n",
       "    .dataframe tbody tr th {\n",
       "        vertical-align: top;\n",
       "    }\n",
       "\n",
       "    .dataframe thead th {\n",
       "        text-align: right;\n",
       "    }\n",
       "</style>\n",
       "<table border=\"1\" class=\"dataframe\">\n",
       "  <thead>\n",
       "    <tr style=\"text-align: right;\">\n",
       "      <th></th>\n",
       "      <th>Player ID</th>\n",
       "      <th>Age</th>\n",
       "      <th>height_cm</th>\n",
       "      <th>weight_kg</th>\n",
       "      <th>player_rating</th>\n",
       "      <th>Market Value EUR</th>\n",
       "      <th>Wages EUR</th>\n",
       "    </tr>\n",
       "  </thead>\n",
       "  <tbody>\n",
       "    <tr>\n",
       "      <th>0</th>\n",
       "      <td>158023</td>\n",
       "      <td>33</td>\n",
       "      <td>170</td>\n",
       "      <td>72</td>\n",
       "      <td>93</td>\n",
       "      <td>67500000</td>\n",
       "      <td>560000</td>\n",
       "    </tr>\n",
       "    <tr>\n",
       "      <th>1</th>\n",
       "      <td>20801</td>\n",
       "      <td>35</td>\n",
       "      <td>187</td>\n",
       "      <td>83</td>\n",
       "      <td>92</td>\n",
       "      <td>46000000</td>\n",
       "      <td>220000</td>\n",
       "    </tr>\n",
       "    <tr>\n",
       "      <th>2</th>\n",
       "      <td>200389</td>\n",
       "      <td>27</td>\n",
       "      <td>188</td>\n",
       "      <td>87</td>\n",
       "      <td>91</td>\n",
       "      <td>75000000</td>\n",
       "      <td>125000</td>\n",
       "    </tr>\n",
       "    <tr>\n",
       "      <th>3</th>\n",
       "      <td>188545</td>\n",
       "      <td>31</td>\n",
       "      <td>184</td>\n",
       "      <td>80</td>\n",
       "      <td>91</td>\n",
       "      <td>80000000</td>\n",
       "      <td>240000</td>\n",
       "    </tr>\n",
       "    <tr>\n",
       "      <th>4</th>\n",
       "      <td>190871</td>\n",
       "      <td>28</td>\n",
       "      <td>175</td>\n",
       "      <td>68</td>\n",
       "      <td>91</td>\n",
       "      <td>90000000</td>\n",
       "      <td>270000</td>\n",
       "    </tr>\n",
       "    <tr>\n",
       "      <th>...</th>\n",
       "      <td>...</td>\n",
       "      <td>...</td>\n",
       "      <td>...</td>\n",
       "      <td>...</td>\n",
       "      <td>...</td>\n",
       "      <td>...</td>\n",
       "      <td>...</td>\n",
       "    </tr>\n",
       "    <tr>\n",
       "      <th>18714</th>\n",
       "      <td>256679</td>\n",
       "      <td>24</td>\n",
       "      <td>176</td>\n",
       "      <td>73</td>\n",
       "      <td>47</td>\n",
       "      <td>40000</td>\n",
       "      <td>500</td>\n",
       "    </tr>\n",
       "    <tr>\n",
       "      <th>18715</th>\n",
       "      <td>257710</td>\n",
       "      <td>21</td>\n",
       "      <td>177</td>\n",
       "      <td>70</td>\n",
       "      <td>47</td>\n",
       "      <td>35000</td>\n",
       "      <td>1000</td>\n",
       "    </tr>\n",
       "    <tr>\n",
       "      <th>18716</th>\n",
       "      <td>250989</td>\n",
       "      <td>20</td>\n",
       "      <td>185</td>\n",
       "      <td>74</td>\n",
       "      <td>47</td>\n",
       "      <td>35000</td>\n",
       "      <td>1000</td>\n",
       "    </tr>\n",
       "    <tr>\n",
       "      <th>18717</th>\n",
       "      <td>257697</td>\n",
       "      <td>23</td>\n",
       "      <td>186</td>\n",
       "      <td>80</td>\n",
       "      <td>47</td>\n",
       "      <td>40000</td>\n",
       "      <td>1000</td>\n",
       "    </tr>\n",
       "    <tr>\n",
       "      <th>18718</th>\n",
       "      <td>257936</td>\n",
       "      <td>28</td>\n",
       "      <td>185</td>\n",
       "      <td>79</td>\n",
       "      <td>47</td>\n",
       "      <td>30000</td>\n",
       "      <td>2000</td>\n",
       "    </tr>\n",
       "  </tbody>\n",
       "</table>\n",
       "<p>18719 rows × 7 columns</p>\n",
       "</div>"
      ],
      "text/plain": [
       "       Player ID  Age  height_cm  weight_kg  player_rating  Market Value EUR  \\\n",
       "0         158023   33        170         72             93          67500000   \n",
       "1          20801   35        187         83             92          46000000   \n",
       "2         200389   27        188         87             91          75000000   \n",
       "3         188545   31        184         80             91          80000000   \n",
       "4         190871   28        175         68             91          90000000   \n",
       "...          ...  ...        ...        ...            ...               ...   \n",
       "18714     256679   24        176         73             47             40000   \n",
       "18715     257710   21        177         70             47             35000   \n",
       "18716     250989   20        185         74             47             35000   \n",
       "18717     257697   23        186         80             47             40000   \n",
       "18718     257936   28        185         79             47             30000   \n",
       "\n",
       "       Wages EUR  \n",
       "0         560000  \n",
       "1         220000  \n",
       "2         125000  \n",
       "3         240000  \n",
       "4         270000  \n",
       "...          ...  \n",
       "18714        500  \n",
       "18715       1000  \n",
       "18716       1000  \n",
       "18717       1000  \n",
       "18718       2000  \n",
       "\n",
       "[18719 rows x 7 columns]"
      ]
     },
     "execution_count": 17,
     "metadata": {},
     "output_type": "execute_result"
    }
   ],
   "source": [
    "fifa_21_new"
   ]
  },
  {
   "cell_type": "markdown",
   "id": "c43f27e8",
   "metadata": {},
   "source": [
    "#### Missing values"
   ]
  },
  {
   "cell_type": "code",
   "execution_count": 18,
   "id": "38e186da",
   "metadata": {},
   "outputs": [
    {
     "data": {
      "text/plain": [
       "Player ID           0\n",
       "Age                 0\n",
       "height_cm           0\n",
       "weight_kg           0\n",
       "player_rating       0\n",
       "Market Value EUR    0\n",
       "Wages EUR           0\n",
       "dtype: int64"
      ]
     },
     "execution_count": 18,
     "metadata": {},
     "output_type": "execute_result"
    }
   ],
   "source": [
    "# Check for missing values\n",
    "\n",
    "fifa_21_new.isnull().sum()\n",
    "# No missing values to handle"
   ]
  },
  {
   "cell_type": "markdown",
   "id": "0922ffc0",
   "metadata": {},
   "source": [
    "#### Duplicates check"
   ]
  },
  {
   "cell_type": "code",
   "execution_count": 19,
   "id": "9a01546a",
   "metadata": {},
   "outputs": [],
   "source": [
    "dups = fifa_21_new.duplicated()"
   ]
  },
  {
   "cell_type": "code",
   "execution_count": 20,
   "id": "db4db02e",
   "metadata": {},
   "outputs": [
    {
     "data": {
      "text/plain": [
       "(18719,)"
      ]
     },
     "execution_count": 20,
     "metadata": {},
     "output_type": "execute_result"
    }
   ],
   "source": [
    "# No duplicates\n",
    "dups.shape"
   ]
  },
  {
   "cell_type": "markdown",
   "id": "988fc7c3",
   "metadata": {},
   "source": [
    "#### Extreme values check"
   ]
  },
  {
   "cell_type": "code",
   "execution_count": 27,
   "id": "53261c50",
   "metadata": {},
   "outputs": [
    {
     "name": "stderr",
     "output_type": "stream",
     "text": [
      "C:\\Users\\acisk\\anaconda3\\lib\\site-packages\\seaborn\\distributions.py:2557: FutureWarning: `distplot` is a deprecated function and will be removed in a future version. Please adapt your code to use either `displot` (a figure-level function with similar flexibility) or `histplot` (an axes-level function for histograms).\n",
      "  warnings.warn(msg, FutureWarning)\n"
     ]
    },
    {
     "data": {
      "text/plain": [
       "<AxesSubplot:xlabel='player_rating', ylabel='Density'>"
      ]
     },
     "execution_count": 27,
     "metadata": {},
     "output_type": "execute_result"
    },
    {
     "data": {
      "image/png": "[encoded data removed]",
      "text/plain": [
       "<Figure size 432x288 with 1 Axes>"
      ]
     },
     "metadata": {
      "needs_background": "light"
     },
     "output_type": "display_data"
    }
   ],
   "source": [
    "sns.distplot(fifa_21_new['player_rating'], bins=25) # Shows extreme values"
   ]
  },
  {
   "cell_type": "code",
   "execution_count": 37,
   "id": "d420d180",
   "metadata": {},
   "outputs": [
    {
     "data": {
      "text/plain": [
       "count    18719.000000\n",
       "mean        65.635023\n",
       "std          7.003908\n",
       "min         47.000000\n",
       "25%         61.000000\n",
       "50%         66.000000\n",
       "75%         70.000000\n",
       "max         93.000000\n",
       "Name: player_rating, dtype: float64"
      ]
     },
     "execution_count": 37,
     "metadata": {},
     "output_type": "execute_result"
    }
   ],
   "source": [
    "#Descriptive statistics\n",
    "fifa_21_new['player_rating'].describe()"
   ]
  },
  {
   "cell_type": "markdown",
   "id": "533e0a6f",
   "metadata": {},
   "source": [
    "### 3. Data preparation for regression analysis"
   ]
  },
  {
   "cell_type": "markdown",
   "id": "28d79edb",
   "metadata": {},
   "source": [
    "#### Hypothesis: If there is increase in player wages then, there will be increase in their ratings"
   ]
  },
  {
   "cell_type": "code",
   "execution_count": 45,
   "id": "80590267",
   "metadata": {},
   "outputs": [
    {
     "data": {
      "image/png": "[encoded data removed]",
      "text/plain": [
       "<Figure size 432x288 with 1 Axes>"
      ]
     },
     "metadata": {
      "needs_background": "light"
     },
     "output_type": "display_data"
    }
   ],
   "source": [
    "# Create a scatterplot using matplotlib for another look at how the chosen variables plot against each other.\n",
    "\n",
    "fifa_21_new.plot(x = 'Wages EUR', y='player_rating',style='o') # The style option creates a scatterplot; without it, we only have lines.\n",
    "plt.title('Players: Wages vs Ratings')  \n",
    "plt.xlabel('Wages EUR')  \n",
    "plt.ylabel('player_rating')  \n",
    "plt.show()"
   ]
  },
  {
   "cell_type": "code",
   "execution_count": 46,
   "id": "b35ffe72",
   "metadata": {},
   "outputs": [],
   "source": [
    "# Reshape the variables into NumPy arrays and put them into separate objects.\n",
    "\n",
    "X = fifa_21_new['Wages EUR'].values.reshape(-1,1)\n",
    "y = fifa_21_new['player_rating'].values.reshape(-1,1)"
   ]
  },
  {
   "cell_type": "code",
   "execution_count": 47,
   "id": "872e3ef9",
   "metadata": {},
   "outputs": [
    {
     "data": {
      "text/plain": [
       "array([[560000],\n",
       "       [220000],\n",
       "       [125000],\n",
       "       ...,\n",
       "       [  1000],\n",
       "       [  1000],\n",
       "       [  2000]], dtype=int64)"
      ]
     },
     "execution_count": 47,
     "metadata": {},
     "output_type": "execute_result"
    }
   ],
   "source": [
    "X"
   ]
  },
  {
   "cell_type": "code",
   "execution_count": 48,
   "id": "2b96a5cd",
   "metadata": {},
   "outputs": [
    {
     "data": {
      "text/plain": [
       "array([[93],\n",
       "       [92],\n",
       "       [91],\n",
       "       ...,\n",
       "       [47],\n",
       "       [47],\n",
       "       [47]], dtype=int64)"
      ]
     },
     "execution_count": 48,
     "metadata": {},
     "output_type": "execute_result"
    }
   ],
   "source": [
    "y"
   ]
  },
  {
   "cell_type": "code",
   "execution_count": 49,
   "id": "b1d13071",
   "metadata": {},
   "outputs": [],
   "source": [
    "# Split data into a training set and a test set.\n",
    "\n",
    "X_train, X_test, y_train, y_test = train_test_split(X, y, test_size=0.3, random_state=0)"
   ]
  },
  {
   "cell_type": "markdown",
   "id": "1e6d1df5",
   "metadata": {},
   "source": [
    "### 4. Regression analysis"
   ]
  },
  {
   "cell_type": "code",
   "execution_count": 50,
   "id": "89fd85f8",
   "metadata": {},
   "outputs": [],
   "source": [
    "# Create a regression object.\n",
    "regression = LinearRegression()  # This is the regression object, which will be fit onto the training set."
   ]
  },
  {
   "cell_type": "code",
   "execution_count": 51,
   "id": "9e58de09",
   "metadata": {},
   "outputs": [
    {
     "data": {
      "text/plain": [
       "LinearRegression()"
      ]
     },
     "execution_count": 51,
     "metadata": {},
     "output_type": "execute_result"
    }
   ],
   "source": [
    "# Fit the regression object onto the training set.\n",
    "regression.fit(X_train, y_train)"
   ]
  },
  {
   "cell_type": "code",
   "execution_count": 52,
   "id": "5d4b2e09",
   "metadata": {},
   "outputs": [],
   "source": [
    "# Predict the values of y using X.\n",
    "\n",
    "y_predicted = regression.predict(X_test)"
   ]
  },
  {
   "cell_type": "code",
   "execution_count": 57,
   "id": "a6ffdac8",
   "metadata": {},
   "outputs": [
    {
     "data": {
      "image/png": "[encoded data removed]",
      "text/plain": [
       "<Figure size 432x288 with 1 Axes>"
      ]
     },
     "metadata": {
      "needs_background": "light"
     },
     "output_type": "display_data"
    }
   ],
   "source": [
    "# Create a plot that shows the regression line from the model on the test set.\n",
    "\n",
    "plot_test = plt\n",
    "plot_test.scatter(X_test, y_test, color='gray', s = 15)\n",
    "plot_test.plot(X_test, y_predicted, color='red', linewidth =3)\n",
    "plot_test.title('Players: Wages vs Ratings (Test set)')\n",
    "plot_test.xlabel('Wages EUR')\n",
    "plot_test.ylabel('Ratings')\n",
    "plot_test.show()"
   ]
  },
  {
   "cell_type": "markdown",
   "id": "99b41cc2",
   "metadata": {},
   "source": [
    "#### The trend line travels upwards diagonally from left to right, this shows a positive correlation between the variables, the data points are closer to the trend lines indicating a strong correlation, this confirms our hypothesis."
   ]
  },
  {
   "cell_type": "code",
   "execution_count": 54,
   "id": "13c79b63",
   "metadata": {},
   "outputs": [],
   "source": [
    "# Create objects that contain the model summary statistics.\n",
    "\n",
    "rmse = mean_squared_error(y_test, y_predicted) # This is the mean squared error\n",
    "r2 = r2_score(y_test, y_predicted) # This is the R2 score."
   ]
  },
  {
   "cell_type": "code",
   "execution_count": 55,
   "id": "915969d0",
   "metadata": {},
   "outputs": [
    {
     "name": "stdout",
     "output_type": "stream",
     "text": [
      "Slope: [[0.00020409]]\n",
      "Mean squared error:  31.543083910269832\n",
      "R2 score:  0.34415969778143407\n"
     ]
    }
   ],
   "source": [
    "# Print the model summary statistics. This is where you evaluate the performance of the model.\n",
    "\n",
    "print('Slope:' ,regression.coef_)\n",
    "print('Mean squared error: ', rmse)\n",
    "print('R2 score: ', r2)"
   ]
  },
  {
   "cell_type": "markdown",
   "id": "0e008678",
   "metadata": {},
   "source": [
    "#### The slope is positive and it indicates if there is an increase in wages then there will increate in player ratings.\n",
    "#### RMSE  is 31.5, this means the regression line is close to the data points.\n",
    "#### The R2 score is 0.344, this means the model isn’t a good fit."
   ]
  },
  {
   "cell_type": "code",
   "execution_count": 56,
   "id": "7cd86a11",
   "metadata": {},
   "outputs": [
    {
     "data": {
      "text/plain": [
       "array([[68.15211832],\n",
       "       [64.27442593],\n",
       "       [63.96829232],\n",
       "       ...,\n",
       "       [68.96847461],\n",
       "       [64.68260407],\n",
       "       [64.27442593]])"
      ]
     },
     "execution_count": 56,
     "metadata": {},
     "output_type": "execute_result"
    }
   ],
   "source": [
    "y_predicted"
   ]
  },
  {
   "cell_type": "code",
   "execution_count": 58,
   "id": "4d1f23a1",
   "metadata": {},
   "outputs": [
    {
     "data": {
      "text/html": [
       "<div>\n",
       "<style scoped>\n",
       "    .dataframe tbody tr th:only-of-type {\n",
       "        vertical-align: middle;\n",
       "    }\n",
       "\n",
       "    .dataframe tbody tr th {\n",
       "        vertical-align: top;\n",
       "    }\n",
       "\n",
       "    .dataframe thead th {\n",
       "        text-align: right;\n",
       "    }\n",
       "</style>\n",
       "<table border=\"1\" class=\"dataframe\">\n",
       "  <thead>\n",
       "    <tr style=\"text-align: right;\">\n",
       "      <th></th>\n",
       "      <th>Actual</th>\n",
       "      <th>Predicted</th>\n",
       "    </tr>\n",
       "  </thead>\n",
       "  <tbody>\n",
       "    <tr>\n",
       "      <th>0</th>\n",
       "      <td>76</td>\n",
       "      <td>68.152118</td>\n",
       "    </tr>\n",
       "    <tr>\n",
       "      <th>1</th>\n",
       "      <td>67</td>\n",
       "      <td>64.274426</td>\n",
       "    </tr>\n",
       "    <tr>\n",
       "      <th>2</th>\n",
       "      <td>66</td>\n",
       "      <td>63.968292</td>\n",
       "    </tr>\n",
       "    <tr>\n",
       "      <th>3</th>\n",
       "      <td>57</td>\n",
       "      <td>63.968292</td>\n",
       "    </tr>\n",
       "    <tr>\n",
       "      <th>4</th>\n",
       "      <td>67</td>\n",
       "      <td>63.968292</td>\n",
       "    </tr>\n",
       "    <tr>\n",
       "      <th>5</th>\n",
       "      <td>64</td>\n",
       "      <td>64.478515</td>\n",
       "    </tr>\n",
       "    <tr>\n",
       "      <th>6</th>\n",
       "      <td>58</td>\n",
       "      <td>64.478515</td>\n",
       "    </tr>\n",
       "    <tr>\n",
       "      <th>7</th>\n",
       "      <td>58</td>\n",
       "      <td>63.968292</td>\n",
       "    </tr>\n",
       "    <tr>\n",
       "      <th>8</th>\n",
       "      <td>63</td>\n",
       "      <td>64.274426</td>\n",
       "    </tr>\n",
       "    <tr>\n",
       "      <th>9</th>\n",
       "      <td>59</td>\n",
       "      <td>63.968292</td>\n",
       "    </tr>\n",
       "    <tr>\n",
       "      <th>10</th>\n",
       "      <td>69</td>\n",
       "      <td>64.682604</td>\n",
       "    </tr>\n",
       "    <tr>\n",
       "      <th>11</th>\n",
       "      <td>74</td>\n",
       "      <td>68.968475</td>\n",
       "    </tr>\n",
       "    <tr>\n",
       "      <th>12</th>\n",
       "      <td>66</td>\n",
       "      <td>64.274426</td>\n",
       "    </tr>\n",
       "    <tr>\n",
       "      <th>13</th>\n",
       "      <td>71</td>\n",
       "      <td>68.356207</td>\n",
       "    </tr>\n",
       "    <tr>\n",
       "      <th>14</th>\n",
       "      <td>62</td>\n",
       "      <td>64.009110</td>\n",
       "    </tr>\n",
       "    <tr>\n",
       "      <th>15</th>\n",
       "      <td>70</td>\n",
       "      <td>65.294871</td>\n",
       "    </tr>\n",
       "    <tr>\n",
       "      <th>16</th>\n",
       "      <td>80</td>\n",
       "      <td>80.193374</td>\n",
       "    </tr>\n",
       "    <tr>\n",
       "      <th>17</th>\n",
       "      <td>72</td>\n",
       "      <td>66.519406</td>\n",
       "    </tr>\n",
       "    <tr>\n",
       "      <th>18</th>\n",
       "      <td>69</td>\n",
       "      <td>64.274426</td>\n",
       "    </tr>\n",
       "    <tr>\n",
       "      <th>19</th>\n",
       "      <td>66</td>\n",
       "      <td>64.478515</td>\n",
       "    </tr>\n",
       "    <tr>\n",
       "      <th>20</th>\n",
       "      <td>73</td>\n",
       "      <td>69.376653</td>\n",
       "    </tr>\n",
       "    <tr>\n",
       "      <th>21</th>\n",
       "      <td>70</td>\n",
       "      <td>63.968292</td>\n",
       "    </tr>\n",
       "    <tr>\n",
       "      <th>22</th>\n",
       "      <td>59</td>\n",
       "      <td>64.274426</td>\n",
       "    </tr>\n",
       "    <tr>\n",
       "      <th>23</th>\n",
       "      <td>66</td>\n",
       "      <td>63.968292</td>\n",
       "    </tr>\n",
       "    <tr>\n",
       "      <th>24</th>\n",
       "      <td>69</td>\n",
       "      <td>64.886693</td>\n",
       "    </tr>\n",
       "    <tr>\n",
       "      <th>25</th>\n",
       "      <td>61</td>\n",
       "      <td>64.682604</td>\n",
       "    </tr>\n",
       "    <tr>\n",
       "      <th>26</th>\n",
       "      <td>67</td>\n",
       "      <td>64.478515</td>\n",
       "    </tr>\n",
       "    <tr>\n",
       "      <th>27</th>\n",
       "      <td>56</td>\n",
       "      <td>64.478515</td>\n",
       "    </tr>\n",
       "    <tr>\n",
       "      <th>28</th>\n",
       "      <td>63</td>\n",
       "      <td>63.968292</td>\n",
       "    </tr>\n",
       "    <tr>\n",
       "      <th>29</th>\n",
       "      <td>69</td>\n",
       "      <td>66.927584</td>\n",
       "    </tr>\n",
       "  </tbody>\n",
       "</table>\n",
       "</div>"
      ],
      "text/plain": [
       "    Actual  Predicted\n",
       "0       76  68.152118\n",
       "1       67  64.274426\n",
       "2       66  63.968292\n",
       "3       57  63.968292\n",
       "4       67  63.968292\n",
       "5       64  64.478515\n",
       "6       58  64.478515\n",
       "7       58  63.968292\n",
       "8       63  64.274426\n",
       "9       59  63.968292\n",
       "10      69  64.682604\n",
       "11      74  68.968475\n",
       "12      66  64.274426\n",
       "13      71  68.356207\n",
       "14      62  64.009110\n",
       "15      70  65.294871\n",
       "16      80  80.193374\n",
       "17      72  66.519406\n",
       "18      69  64.274426\n",
       "19      66  64.478515\n",
       "20      73  69.376653\n",
       "21      70  63.968292\n",
       "22      59  64.274426\n",
       "23      66  63.968292\n",
       "24      69  64.886693\n",
       "25      61  64.682604\n",
       "26      67  64.478515\n",
       "27      56  64.478515\n",
       "28      63  63.968292\n",
       "29      69  66.927584"
      ]
     },
     "execution_count": 58,
     "metadata": {},
     "output_type": "execute_result"
    }
   ],
   "source": [
    "# Create a dataframe comparing the actual and predicted values of y.\n",
    "\n",
    "data = pd.DataFrame({'Actual': y_test.flatten(), 'Predicted': y_predicted.flatten()})\n",
    "data.head(30)"
   ]
  },
  {
   "cell_type": "markdown",
   "id": "cdeba317",
   "metadata": {},
   "source": [
    "#### The relationship simply doesn’t follow a single, straight regression line, so it won’t be able to accurately predict the player ratings"
   ]
  },
  {
   "cell_type": "code",
   "execution_count": null,
   "id": "b17adaff",
   "metadata": {},
   "outputs": [],
   "source": []
  }
 ],
 "metadata": {
  "kernelspec": {
   "display_name": "Python 3",
   "language": "python",
   "name": "python3"
  },
  "language_info": {
   "codemirror_mode": {
    "name": "ipython",
    "version": 3
   },
   "file_extension": ".py",
   "mimetype": "text/x-python",
   "name": "python",
   "nbconvert_exporter": "python",
   "pygments_lexer": "ipython3",
   "version": "3.8.8"
  }
 },
 "nbformat": 4,
 "nbformat_minor": 5
}
